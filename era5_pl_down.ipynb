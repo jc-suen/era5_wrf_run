{
 "cells": [
  {
   "cell_type": "code",
   "execution_count": null,
   "metadata": {},
   "outputs": [],
   "source": [
    "import cdsapi\n",
    "import os\n",
    "\n",
    "c = cdsapi.Client()\n",
    "\n",
    "# 指定目标文件夹\n",
    "output_folder = r\"E:\\wrf_era5\\Hinnamnor_pressure\"\n",
    "\n",
    "# 确保目标文件夹存在\n",
    "if not os.path.exists(output_folder):\n",
    "    os.makedirs(output_folder)\n",
    "\n",
    "# 定义日期范围\n",
    "year = \"2022\"\n",
    "month = \"09\"\n",
    "days = [\n",
    "    \"01\", \"02\", \"03\", \"04\", \"05\", \"06\", \"07\", \"08\", \"09\", \"10\",\n",
    "    \"11\", \"12\", \"13\", \"14\", \"15\", \"16\", \"17\", \"18\", \"19\", \"20\",\n",
    "    \"21\", \"22\", \"23\", \"24\", \"25\", \"26\", \"27\", \"28\", \"29\", \"30\"\n",
    "]\n",
    "\n",
    "for day in days:\n",
    "    output_filename = f\"ERA5-{year}-{month}-{day}_pl.grib\"\n",
    "    output_path = os.path.join(output_folder, output_filename)\n",
    "\n",
    "    c.retrieve(\n",
    "        'reanalysis-era5-pressure-levels',\n",
    "        {\n",
    "            'product_type': 'reanalysis',\n",
    "            'format': 'grib',\n",
    "            'variable': [\n",
    "                'geopotential', 'relative_humidity', 'temperature', 'specific_humidity',\n",
    "                'u_component_of_wind', 'v_component_of_wind', 'vertical_velocity'\n",
    "            ],\n",
    "            'pressure_level': [\n",
    "                '1', '2', '3', '5', '7', '10', '20', '30', '50', '70', '100', '125',\n",
    "                '150', '175', '200', '225', '250', '300', '350', '400', '450', '500',\n",
    "                '550', '600', '650', '700', '750', '775', '800', '825', '850', '875',\n",
    "                '900', '925', '950', '975', '1000',\n",
    "            ],\n",
    "            'year': year,\n",
    "            'month': month,\n",
    "            'day': day,\n",
    "            'time': [\n",
    "                '00:00', '01:00', '02:00', '03:00', '04:00', '05:00', '06:00', '07:00',\n",
    "                '08:00', '09:00', '10:00', '11:00', '12:00', '13:00', '14:00', '15:00',\n",
    "                '16:00', '17:00', '18:00', '19:00', '20:00', '21:00', '22:00', '23:00',\n",
    "            ],\n",
    "            'area': [80.00, 80.00, -10.00, 170.00],\n",
    "        },\n",
    "    ).download(output_path)\n",
    "\n",
    "    print(f\"Downloaded data for {year}-{month}-{day} to {output_path}\")\n"
   ]
  }
 ],
 "metadata": {
  "kernelspec": {
   "display_name": "torch",
   "language": "python",
   "name": "python3"
  },
  "language_info": {
   "codemirror_mode": {
    "name": "ipython",
    "version": 3
   },
   "file_extension": ".py",
   "mimetype": "text/x-python",
   "name": "python",
   "nbconvert_exporter": "python",
   "pygments_lexer": "ipython3",
   "version": "3.11.9"
  }
 },
 "nbformat": 4,
 "nbformat_minor": 2
}
